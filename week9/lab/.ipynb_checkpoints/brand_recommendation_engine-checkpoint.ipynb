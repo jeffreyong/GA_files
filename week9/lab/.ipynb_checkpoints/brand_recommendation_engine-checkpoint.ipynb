{
 "cells": [
  {
   "cell_type": "markdown",
   "metadata": {},
   "source": [
    "# Brand Recommendation Engine"
   ]
  },
  {
   "cell_type": "code",
   "execution_count": 2,
   "metadata": {
    "collapsed": false
   },
   "outputs": [],
   "source": [
    "import pandas as pd\n",
    "df = pd.read_csv(\"https://raw.githubusercontent.com/ajschumacher/gadsdata/master/user_brand.csv\", header=None)"
   ]
  },
  {
   "cell_type": "markdown",
   "metadata": {},
   "source": [
    "### Make Data into Sparse Matrix"
   ]
  },
  {
   "cell_type": "code",
   "execution_count": 92,
   "metadata": {
    "collapsed": false
   },
   "outputs": [
    {
     "data": {
      "text/html": [
       "<div style=\"max-height:1000px;max-width:1500px;overflow:auto;\">\n",
       "<table border=\"1\" class=\"dataframe\">\n",
       "  <thead>\n",
       "    <tr style=\"text-align: right;\">\n",
       "      <th></th>\n",
       "      <th>user</th>\n",
       "      <th>brand</th>\n",
       "    </tr>\n",
       "  </thead>\n",
       "  <tbody>\n",
       "    <tr>\n",
       "      <th>0</th>\n",
       "      <td> 80002</td>\n",
       "      <td>     Target</td>\n",
       "    </tr>\n",
       "    <tr>\n",
       "      <th>1</th>\n",
       "      <td> 80002</td>\n",
       "      <td> Home Depot</td>\n",
       "    </tr>\n",
       "    <tr>\n",
       "      <th>2</th>\n",
       "      <td> 80010</td>\n",
       "      <td>     Levi's</td>\n",
       "    </tr>\n",
       "    <tr>\n",
       "      <th>3</th>\n",
       "      <td> 80010</td>\n",
       "      <td>       Puma</td>\n",
       "    </tr>\n",
       "    <tr>\n",
       "      <th>4</th>\n",
       "      <td> 80010</td>\n",
       "      <td>  Cuisinart</td>\n",
       "    </tr>\n",
       "  </tbody>\n",
       "</table>\n",
       "</div>"
      ],
      "text/plain": [
       "    user       brand\n",
       "0  80002      Target\n",
       "1  80002  Home Depot\n",
       "2  80010      Levi's\n",
       "3  80010        Puma\n",
       "4  80010   Cuisinart"
      ]
     },
     "execution_count": 92,
     "metadata": {},
     "output_type": "execute_result"
    }
   ],
   "source": [
    "df.columns = ['user','brand']\n",
    "df.head()"
   ]
  },
  {
   "cell_type": "code",
   "execution_count": 21,
   "metadata": {
    "collapsed": false
   },
   "outputs": [],
   "source": [
    "import numpy as np\n",
    "brands, unique_brand_map = np.unique(df['brand'], return_inverse=True)\n",
    "users, unique_user_map = np.unique(df['user'], return_inverse=True)"
   ]
  },
  {
   "cell_type": "code",
   "execution_count": 73,
   "metadata": {
    "collapsed": false
   },
   "outputs": [],
   "source": [
    "data = {}\n",
    "for h in unique_user_map:\n",
    "    data[h]=unique_brand_map[np.where(unique_user_map ==h)].tolist()"
   ]
  },
  {
   "cell_type": "code",
   "execution_count": 78,
   "metadata": {
    "collapsed": false
   },
   "outputs": [],
   "source": [
    "data2={}\n",
    "for h in data.keys():\n",
    "    data2[h]=[1 if i in data[h] else 0 for i in range(len(brands))]"
   ]
  },
  {
   "cell_type": "code",
   "execution_count": 80,
   "metadata": {
    "collapsed": false
   },
   "outputs": [],
   "source": [
    "matrix = pd.DataFrame(data2)"
   ]
  },
  {
   "cell_type": "code",
   "execution_count": 88,
   "metadata": {
    "collapsed": false
   },
   "outputs": [
    {
     "data": {
      "text/html": [
       "<div style=\"max-height:1000px;max-width:1500px;overflow:auto;\">\n",
       "<table border=\"1\" class=\"dataframe\">\n",
       "  <thead>\n",
       "    <tr style=\"text-align: right;\">\n",
       "      <th></th>\n",
       "      <th>0</th>\n",
       "      <th>1</th>\n",
       "    </tr>\n",
       "  </thead>\n",
       "  <tbody>\n",
       "    <tr>\n",
       "      <th>0</th>\n",
       "      <td> 0</td>\n",
       "      <td> 0</td>\n",
       "    </tr>\n",
       "    <tr>\n",
       "      <th>1</th>\n",
       "      <td> 0</td>\n",
       "      <td> 0</td>\n",
       "    </tr>\n",
       "    <tr>\n",
       "      <th>2</th>\n",
       "      <td> 0</td>\n",
       "      <td> 0</td>\n",
       "    </tr>\n",
       "    <tr>\n",
       "      <th>3</th>\n",
       "      <td> 0</td>\n",
       "      <td> 0</td>\n",
       "    </tr>\n",
       "    <tr>\n",
       "      <th>4</th>\n",
       "      <td> 0</td>\n",
       "      <td> 0</td>\n",
       "    </tr>\n",
       "  </tbody>\n",
       "</table>\n",
       "</div>"
      ],
      "text/plain": [
       "   0  1\n",
       "0  0  0\n",
       "1  0  0\n",
       "2  0  0\n",
       "3  0  0\n",
       "4  0  0"
      ]
     },
     "execution_count": 88,
     "metadata": {},
     "output_type": "execute_result"
    }
   ],
   "source": [
    "matrix[[0,1]].head(5)"
   ]
  },
  {
   "cell_type": "code",
   "execution_count": 90,
   "metadata": {
    "collapsed": false
   },
   "outputs": [],
   "source": [
    "#matrix.to_csv('/home/vagrant/notebooks/fall_2014_lessons/14_recommendation_engines/lab/brand_data_sparse.csv', index=0)"
   ]
  },
  {
   "cell_type": "code",
   "execution_count": 3,
   "metadata": {
    "collapsed": false
   },
   "outputs": [],
   "source": [
    "df = pd.read_csv('https://raw.githubusercontent.com/gads14-nyc/fall_2014_lessons/master/14_recommenders/brand_data_sparse.csv')"
   ]
  },
  {
   "cell_type": "code",
   "execution_count": 4,
   "metadata": {
    "collapsed": false
   },
   "outputs": [
    {
     "data": {
      "text/html": [
       "<pre>\n",
       "&lt;class 'pandas.core.frame.DataFrame'&gt;\n",
       "Int64Index: 5 entries, 0 to 4\n",
       "Columns: 3759 entries, 0 to 3758\n",
       "dtypes: int64(3759)\n",
       "</pre>"
      ],
      "text/plain": [
       "<class 'pandas.core.frame.DataFrame'>\n",
       "Int64Index: 5 entries, 0 to 4\n",
       "Columns: 3759 entries, 0 to 3758\n",
       "dtypes: int64(3759)"
      ]
     },
     "execution_count": 4,
     "metadata": {},
     "output_type": "execute_result"
    }
   ],
   "source": []
  },
  {
   "cell_type": "code",
   "execution_count": 28,
   "metadata": {
    "collapsed": false
   },
   "outputs": [
    {
     "data": {
      "text/plain": [
       "0     0\n",
       "1     0\n",
       "2     0\n",
       "3     0\n",
       "4     0\n",
       "5     0\n",
       "6     0\n",
       "7     0\n",
       "8     0\n",
       "9     0\n",
       "10    0\n",
       "11    0\n",
       "12    0\n",
       "13    0\n",
       "14    0\n",
       "...\n",
       "183    0\n",
       "184    0\n",
       "185    0\n",
       "186    0\n",
       "187    0\n",
       "188    0\n",
       "189    0\n",
       "190    0\n",
       "191    0\n",
       "192    0\n",
       "193    0\n",
       "194    0\n",
       "195    0\n",
       "196    0\n",
       "197    0\n",
       "Length: 198, dtype: int64"
      ]
     },
     "execution_count": 28,
     "metadata": {},
     "output_type": "execute_result"
    }
   ],
   "source": [
    "(df.ix[:,0]+df.ix[:,1])"
   ]
  },
  {
   "cell_type": "code",
   "execution_count": 29,
   "metadata": {
    "collapsed": false
   },
   "outputs": [
    {
     "data": {
      "text/plain": [
       "186"
      ]
     },
     "execution_count": 29,
     "metadata": {},
     "output_type": "execute_result"
    }
   ],
   "source": [
    "len(np.where(similar==0)[0])"
   ]
  },
  {
   "cell_type": "code",
   "execution_count": 64,
   "metadata": {
    "collapsed": false
   },
   "outputs": [],
   "source": [
    "def similiarity(row1,row2):\n",
    "    similar=(df.ix[:,row1]+df.ix[:,row2])\n",
    "    number_zeros = len(np.where(similar==0)[0])\n",
    "    number_ones = len(np.where(similar==1)[0])\n",
    "    number_twos =len(np.where(similar==2)[0])\n",
    "    return number_twos/float(number_ones+number_twos)\n",
    "    "
   ]
  },
  {
   "cell_type": "code",
   "execution_count": 65,
   "metadata": {
    "collapsed": false
   },
   "outputs": [
    {
     "data": {
      "text/plain": [
       "0.0"
      ]
     },
     "execution_count": 65,
     "metadata": {},
     "output_type": "execute_result"
    }
   ],
   "source": [
    "similiarity(0,1)"
   ]
  },
  {
   "cell_type": "code",
   "execution_count": 66,
   "metadata": {
    "collapsed": false
   },
   "outputs": [
    {
     "data": {
      "text/plain": [
       "0.1111111111111111"
      ]
     },
     "execution_count": 66,
     "metadata": {},
     "output_type": "execute_result"
    }
   ],
   "source": [
    "similiarity(1,5)"
   ]
  },
  {
   "cell_type": "code",
   "execution_count": 67,
   "metadata": {
    "collapsed": false
   },
   "outputs": [
    {
     "data": {
      "text/plain": [
       "1.0"
      ]
     },
     "execution_count": 67,
     "metadata": {},
     "output_type": "execute_result"
    }
   ],
   "source": [
    "similiarity(0,0)"
   ]
  },
  {
   "cell_type": "code",
   "execution_count": null,
   "metadata": {
    "collapsed": false
   },
   "outputs": [],
   "source": [
    "#"
   ]
  },
  {
   "cell_type": "code",
   "execution_count": 68,
   "metadata": {
    "collapsed": false
   },
   "outputs": [
    {
     "name": "stdout",
     "output_type": "stream",
     "text": [
      "1.0\n",
      "0.0\n",
      "0.0666666666667\n",
      "0.5\n",
      "0.0\n",
      "0.0909090909091\n",
      "0.5\n",
      "0.125\n",
      "0.0\n",
      "0.0\n",
      "0.0\n",
      "1.0\n",
      "0.0434782608696\n",
      "0.0\n",
      "0.0\n",
      "0.111111111111\n",
      "0.0\n",
      "0.307692307692\n",
      "0.0\n",
      "0.0909090909091\n",
      "0.0666666666667\n",
      "0.0434782608696\n",
      "1.0\n",
      "0.2\n",
      "0.0\n",
      "0.263157894737\n",
      "0.0\n",
      "0.166666666667\n",
      "0.0\n",
      "0.0666666666667\n",
      "0.5\n",
      "0.0\n",
      "0.2\n",
      "1.0\n",
      "0.0\n",
      "0.0769230769231\n",
      "0.25\n",
      "0.222222222222\n",
      "0.0\n",
      "0.0\n",
      "0.0\n",
      "0.0\n",
      "0.0\n",
      "0.0\n",
      "1.0\n",
      "0.0\n",
      "0.0\n",
      "0.142857142857\n",
      "0.0\n",
      "0.0\n",
      "0.0909090909091\n",
      "0.111111111111\n",
      "0.263157894737\n",
      "0.0769230769231\n",
      "0.0\n",
      "1.0\n",
      "0.0\n",
      "0.133333333333\n",
      "0.0\n",
      "0.0909090909091\n",
      "0.5\n",
      "0.0\n",
      "0.0\n",
      "0.25\n",
      "0.0\n",
      "0.0\n",
      "1.0\n",
      "0.0\n",
      "0.0\n",
      "0.0\n",
      "0.125\n",
      "0.307692307692\n",
      "0.166666666667\n",
      "0.222222222222\n",
      "0.142857142857\n",
      "0.133333333333\n",
      "0.0\n",
      "1.0\n",
      "0.0\n",
      "0.125\n",
      "0.0\n",
      "0.0\n",
      "0.0\n",
      "0.0\n",
      "0.0\n",
      "0.0\n",
      "0.0\n",
      "0.0\n",
      "1.0\n",
      "0.0\n",
      "0.0\n",
      "0.0909090909091\n",
      "0.0666666666667\n",
      "0.0\n",
      "0.0\n",
      "0.0909090909091\n",
      "0.0\n",
      "0.125\n",
      "0.0\n",
      "1.0\n"
     ]
    }
   ],
   "source": [
    "for i in range(10):\n",
    "    for j in range(10):\n",
    "        print similiarity(i,j)"
   ]
  },
  {
   "cell_type": "code",
   "execution_count": null,
   "metadata": {
    "collapsed": false
   },
   "outputs": [],
   "source": [
    "#"
   ]
  },
  {
   "cell_type": "code",
   "execution_count": 76,
   "metadata": {
    "collapsed": false
   },
   "outputs": [
    {
     "data": {
      "text/plain": [
       "[496, 699, 897, 1613, 1949, 2200, 2256, 3476]"
      ]
     },
     "execution_count": 76,
     "metadata": {},
     "output_type": "execute_result"
    }
   ],
   "source": [
    "np.where(df.ix[1,:]==1)[0].tolist()"
   ]
  },
  {
   "cell_type": "code",
   "execution_count": 78,
   "metadata": {
    "collapsed": false
   },
   "outputs": [
    {
     "data": {
      "text/plain": [
       "[15,\n",
       " 17,\n",
       " 39,\n",
       " 68,\n",
       " 79,\n",
       " 83,\n",
       " 107,\n",
       " 139,\n",
       " 154,\n",
       " 155,\n",
       " 161,\n",
       " 192,\n",
       " 230,\n",
       " 316,\n",
       " 341,\n",
       " 344,\n",
       " 354,\n",
       " 367,\n",
       " 377,\n",
       " 379,\n",
       " 389,\n",
       " 392,\n",
       " 393,\n",
       " 396,\n",
       " 429,\n",
       " 444,\n",
       " 447,\n",
       " 453,\n",
       " 459,\n",
       " 475,\n",
       " 486,\n",
       " 489,\n",
       " 492,\n",
       " 505,\n",
       " 518,\n",
       " 526,\n",
       " 528,\n",
       " 529,\n",
       " 530,\n",
       " 535,\n",
       " 536,\n",
       " 539,\n",
       " 569,\n",
       " 586,\n",
       " 587,\n",
       " 588,\n",
       " 594,\n",
       " 610,\n",
       " 622,\n",
       " 646,\n",
       " 672,\n",
       " 703,\n",
       " 709,\n",
       " 719,\n",
       " 722,\n",
       " 726,\n",
       " 736,\n",
       " 751,\n",
       " 772,\n",
       " 808,\n",
       " 809,\n",
       " 815,\n",
       " 824,\n",
       " 826,\n",
       " 841,\n",
       " 843,\n",
       " 864,\n",
       " 869,\n",
       " 900,\n",
       " 910,\n",
       " 919,\n",
       " 947,\n",
       " 950,\n",
       " 960,\n",
       " 963,\n",
       " 972,\n",
       " 996,\n",
       " 1001,\n",
       " 1002,\n",
       " 1036,\n",
       " 1063,\n",
       " 1067,\n",
       " 1076,\n",
       " 1109,\n",
       " 1133,\n",
       " 1181,\n",
       " 1192,\n",
       " 1242,\n",
       " 1249,\n",
       " 1270,\n",
       " 1290,\n",
       " 1309,\n",
       " 1326,\n",
       " 1334,\n",
       " 1339,\n",
       " 1371,\n",
       " 1378,\n",
       " 1386,\n",
       " 1411,\n",
       " 1436,\n",
       " 1444,\n",
       " 1445,\n",
       " 1453,\n",
       " 1484,\n",
       " 1501,\n",
       " 1504,\n",
       " 1526,\n",
       " 1533,\n",
       " 1535,\n",
       " 1557,\n",
       " 1574,\n",
       " 1604,\n",
       " 1628,\n",
       " 1636,\n",
       " 1669,\n",
       " 1681,\n",
       " 1719,\n",
       " 1733,\n",
       " 1752,\n",
       " 1759,\n",
       " 1773,\n",
       " 1808,\n",
       " 1817,\n",
       " 1821,\n",
       " 1829,\n",
       " 1832,\n",
       " 1862,\n",
       " 1874,\n",
       " 1898,\n",
       " 1905,\n",
       " 1908,\n",
       " 1917,\n",
       " 1925,\n",
       " 1949,\n",
       " 1972,\n",
       " 2002,\n",
       " 2007,\n",
       " 2011,\n",
       " 2023,\n",
       " 2068,\n",
       " 2077,\n",
       " 2083,\n",
       " 2090,\n",
       " 2099,\n",
       " 2121,\n",
       " 2147,\n",
       " 2163,\n",
       " 2164,\n",
       " 2179,\n",
       " 2180,\n",
       " 2197,\n",
       " 2238,\n",
       " 2267,\n",
       " 2272,\n",
       " 2274,\n",
       " 2275,\n",
       " 2310,\n",
       " 2337,\n",
       " 2399,\n",
       " 2424,\n",
       " 2446,\n",
       " 2493,\n",
       " 2494,\n",
       " 2502,\n",
       " 2539,\n",
       " 2566,\n",
       " 2571,\n",
       " 2575,\n",
       " 2577,\n",
       " 2579,\n",
       " 2583,\n",
       " 2609,\n",
       " 2614,\n",
       " 2625,\n",
       " 2655,\n",
       " 2711,\n",
       " 2730,\n",
       " 2745,\n",
       " 2758,\n",
       " 2764,\n",
       " 2765,\n",
       " 2769,\n",
       " 2773,\n",
       " 2800,\n",
       " 2813,\n",
       " 2828,\n",
       " 2834,\n",
       " 2838,\n",
       " 2841,\n",
       " 2862,\n",
       " 2900,\n",
       " 2915,\n",
       " 2923,\n",
       " 2940,\n",
       " 2947,\n",
       " 2981,\n",
       " 2982,\n",
       " 2983,\n",
       " 2986,\n",
       " 3022,\n",
       " 3026,\n",
       " 3027,\n",
       " 3037,\n",
       " 3048,\n",
       " 3053,\n",
       " 3096,\n",
       " 3114,\n",
       " 3135,\n",
       " 3160,\n",
       " 3177,\n",
       " 3196,\n",
       " 3205,\n",
       " 3224,\n",
       " 3232,\n",
       " 3251,\n",
       " 3257,\n",
       " 3259,\n",
       " 3263,\n",
       " 3270,\n",
       " 3283,\n",
       " 3289,\n",
       " 3303,\n",
       " 3306,\n",
       " 3307,\n",
       " 3308,\n",
       " 3311,\n",
       " 3312,\n",
       " 3318,\n",
       " 3330,\n",
       " 3338,\n",
       " 3355,\n",
       " 3401,\n",
       " 3423,\n",
       " 3430,\n",
       " 3438,\n",
       " 3444,\n",
       " 3459,\n",
       " 3481,\n",
       " 3487,\n",
       " 3496,\n",
       " 3506,\n",
       " 3537,\n",
       " 3543,\n",
       " 3551,\n",
       " 3568,\n",
       " 3570,\n",
       " 3573,\n",
       " 3583,\n",
       " 3596,\n",
       " 3601,\n",
       " 3602,\n",
       " 3618,\n",
       " 3622,\n",
       " 3630,\n",
       " 3647,\n",
       " 3661,\n",
       " 3692,\n",
       " 3725,\n",
       " 3742,\n",
       " 3743]"
      ]
     },
     "execution_count": 78,
     "metadata": {},
     "output_type": "execute_result"
    }
   ],
   "source": [
    "np.where(df.ix[0,:]==1)[0].tolist()"
   ]
  },
  {
   "cell_type": "code",
   "execution_count": null,
   "metadata": {
    "collapsed": false
   },
   "outputs": [],
   "source": [
    "#"
   ]
  },
  {
   "cell_type": "code",
   "execution_count": 120,
   "metadata": {
    "collapsed": false
   },
   "outputs": [],
   "source": [
    "def brand_similiarity(user, brand):\n",
    "    similiar_list = []\n",
    "    likers = np.where(df.ix[brand,:]==1)[0].tolist()\n",
    "    for liker in likers:\n",
    "        similiar_list.append(similiarity(user,liker))\n",
    "    return sum(similiar_list)/len(similiar_list)\n",
    "        "
   ]
  },
  {
   "cell_type": "code",
   "execution_count": 84,
   "metadata": {
    "collapsed": false
   },
   "outputs": [
    {
     "data": {
      "text/plain": [
       "0.17647058823529413"
      ]
     },
     "execution_count": 84,
     "metadata": {},
     "output_type": "execute_result"
    }
   ],
   "source": [
    "brand_similiarity(user=1,brand=2)"
   ]
  },
  {
   "cell_type": "code",
   "execution_count": null,
   "metadata": {
    "collapsed": false
   },
   "outputs": [],
   "source": [
    "#"
   ]
  },
  {
   "cell_type": "code",
   "execution_count": 89,
   "metadata": {
    "collapsed": false
   },
   "outputs": [],
   "source": [
    "num_brands = df.shape[0]\n",
    "brand_recommendation = []\n",
    "for i in range(num_brands):\n",
    "    brand_recommendation.append(brand_similiarity(user=1,brand=i))"
   ]
  },
  {
   "cell_type": "code",
   "execution_count": 142,
   "metadata": {
    "collapsed": false
   },
   "outputs": [
    {
     "data": {
      "text/plain": [
       "[0.15255646195299419,\n",
       " 0.13926172355807581,\n",
       " 0.17647058823529413,\n",
       " 0.11133512544802868,\n",
       " 0.17391304347826086,\n",
       " 0.0,\n",
       " 0.19230769230769232,\n",
       " 0.118187625927564,\n",
       " 0.12774994918001745,\n",
       " 0.084997743269802084,\n",
       " 0.13548085901027077,\n",
       " 0.041666666666666664,\n",
       " 0.13492063492063491,\n",
       " 0.052631578947368418,\n",
       " 0.1875,\n",
       " 0.0,\n",
       " 0.15559203467957394,\n",
       " 0.13636363636363635,\n",
       " 0.16180555555555556,\n",
       " 0.052631578947368418,\n",
       " 0.13046393817380911,\n",
       " 0.20833333333333334,\n",
       " 0.20833333333333334,\n",
       " 0.16179334204544288,\n",
       " 0.17518056657589959,\n",
       " 0.25806451612903225,\n",
       " 0.14999999999999999,\n",
       " 0.10526315789473684,\n",
       " 0.16129032258064516,\n",
       " 0.17142857142857143,\n",
       " 0.11594202898550725,\n",
       " 0.25,\n",
       " 0.10526315789473684,\n",
       " 0.13043478260869565,\n",
       " 0.083994708994708997,\n",
       " 0.14271319326599133,\n",
       " 0.1875,\n",
       " 0.15719474779815995,\n",
       " 0.30769230769230771,\n",
       " 0.1345987920621225,\n",
       " 0.1111111111111111,\n",
       " 0.052631578947368418,\n",
       " 0.12560455136912269,\n",
       " 0.13750000000000001,\n",
       " 0.14914529914529914,\n",
       " 0.16430678520759492,\n",
       " 0.22910216718266255,\n",
       " 0.19404761904761902,\n",
       " 0.15835984818800231,\n",
       " 0.19775590377987373,\n",
       " 0.24013671134308878,\n",
       " 0.15966204819032134,\n",
       " 0.14814814814814814,\n",
       " 0.1875,\n",
       " 0.16732919692378462,\n",
       " 0.21290859692208802,\n",
       " 0.071428571428571425,\n",
       " 0.21882686891677294,\n",
       " 0.0,\n",
       " 0.0,\n",
       " 0.16081747033671054,\n",
       " 0.090909090909090912,\n",
       " 0.055555555555555552,\n",
       " 0.23809523809523808,\n",
       " 0.17647058823529413,\n",
       " 0.14334915718783076,\n",
       " 0.16977502941126102,\n",
       " 0.20090815433684736,\n",
       " 0.066666666666666666,\n",
       " 0.10526315789473684,\n",
       " 0.14905304722241458,\n",
       " 0.14285714285714285,\n",
       " 0.13613199665831241,\n",
       " 0.15612374140265622,\n",
       " 0.16366460404663954,\n",
       " 0.18778801843317972,\n",
       " 0.0,\n",
       " 0.12460854637832762,\n",
       " 0.17261437028082963,\n",
       " 0.1875,\n",
       " 0.14424193318912343,\n",
       " 0.13357173515507181,\n",
       " 0.0625,\n",
       " 0.14533015769574908,\n",
       " 0.15194314610923859,\n",
       " 0.14361857779983855,\n",
       " 0.055555555555555552,\n",
       " 0.14999999999999999,\n",
       " 0.14488934741602391,\n",
       " 0.15622591316668524,\n",
       " 0.32000000000000001,\n",
       " 0.0,\n",
       " 0.16256944843973239,\n",
       " 0.058823529411764705,\n",
       " 0.10263157894736842,\n",
       " 0.15999278499278499,\n",
       " 0.12848360655737706,\n",
       " 0.21428571428571427,\n",
       " 0.14857667023335572,\n",
       " 0.20833333333333334,\n",
       " 0.17038014922066086,\n",
       " 0.18573612013262114,\n",
       " 0.19701300866555466,\n",
       " 0.14441941808674907,\n",
       " 0.090909090909090912,\n",
       " 0.2540485829959514,\n",
       " 0.10886920774481348,\n",
       " 0.10526315789473684,\n",
       " 0.15673829133605011,\n",
       " 0.052631578947368418,\n",
       " 0.15759074665156947,\n",
       " 0.15123239192703192,\n",
       " 0.14458148718202488,\n",
       " 0.17764990808736331,\n",
       " 0.23653180732234955,\n",
       " 0.16846603085482126,\n",
       " 0.17142857142857143,\n",
       " 0.10348563667891399,\n",
       " 0.14060150375939851,\n",
       " 0.22712418300653597,\n",
       " 0.16129032258064516,\n",
       " 0.12590360881113127,\n",
       " 0.076315789473684212,\n",
       " 0.10526315789473684,\n",
       " 0.1600127973336915,\n",
       " 0.17646520146520148,\n",
       " 0.17216179416319968,\n",
       " 0.15870047298760051,\n",
       " 0.16666666666666666,\n",
       " 0.16850867401694949,\n",
       " 0.14255189255189255,\n",
       " 0.15966386554621848,\n",
       " 0.15989990969037768,\n",
       " 0.13003460346960294,\n",
       " 0.17056312415519126,\n",
       " 0.17850384884755541,\n",
       " 0.25806451612903225,\n",
       " 0.10000000000000001,\n",
       " 0.19808180864691433,\n",
       " 0.17921058410188845,\n",
       " 0.09722222222222221,\n",
       " 0.20192307692307693,\n",
       " 0.076923076923076927,\n",
       " 0.17087754894094745,\n",
       " 0.077621452621452619,\n",
       " 0.2240780668233773,\n",
       " 0.093165606323501057,\n",
       " 0.14814814814814814,\n",
       " 0.125,\n",
       " 0.14160147453450397,\n",
       " 0.12,\n",
       " 0.14825907135897134,\n",
       " 0.25806451612903225,\n",
       " 0.25806451612903225,\n",
       " 0.14285714285714285,\n",
       " 0.16439978847170808,\n",
       " 0.13539988917880302,\n",
       " 0.26923076923076922,\n",
       " 0.18462247926766434,\n",
       " 0.0,\n",
       " 0.0625,\n",
       " 0.17647058823529413,\n",
       " 0.15980523043265327,\n",
       " 0.0,\n",
       " 0.14814814814814814,\n",
       " 0.10526315789473684,\n",
       " 0.125,\n",
       " 0.20833333333333334,\n",
       " 0.14337250724610026,\n",
       " 0.12363387978142076,\n",
       " 0.083333333333333329,\n",
       " 0.052631578947368418,\n",
       " 0.10000000000000001,\n",
       " 0.17425173153670823,\n",
       " 0.10000000000000001,\n",
       " 0.21428571428571427,\n",
       " 0.085714285714285715,\n",
       " 0.14177489177489178,\n",
       " 0.12670565302144249,\n",
       " 0.19047619047619047,\n",
       " 0.11874999999999999,\n",
       " 0.085383740595298907,\n",
       " 0.13636363636363635,\n",
       " 0.16794871794871793,\n",
       " 0.15112482853274173,\n",
       " 0.14959095961337046,\n",
       " 0.13636363636363635,\n",
       " 0.23076923076923078,\n",
       " 0.14835164835164835,\n",
       " 0.23076923076923078,\n",
       " 0.11086513494980314,\n",
       " 0.058823529411764705,\n",
       " 0.052631578947368418,\n",
       " 0.14999999999999999,\n",
       " 0.0,\n",
       " 0.10995570476994626,\n",
       " 0.0,\n",
       " 0.25]"
      ]
     },
     "execution_count": 142,
     "metadata": {},
     "output_type": "execute_result"
    }
   ],
   "source": [
    "def brand_recommendations(user):\n",
    "    num_brands = df.shape[0]\n",
    "    brand_recommendation = []\n",
    "    for i in range(num_brands):\n",
    "        brand_recommendation.append(brand_similiarity(user=user,brand=i))\n",
    "    return brand_recommendation\n",
    "brand_recommendations(1)"
   ]
  },
  {
   "cell_type": "code",
   "execution_count": 92,
   "metadata": {
    "collapsed": false
   },
   "outputs": [
    {
     "data": {
      "text/plain": [
       "[<matplotlib.lines.Line2D at 0x39bc610>]"
      ]
     },
     "execution_count": 92,
     "metadata": {},
     "output_type": "execute_result"
    },
    {
     "data": {
      "image/png": "[encoded data removed]",
      "text/plain": [
       "<matplotlib.figure.Figure at 0x3836890>"
      ]
     },
     "metadata": {},
     "output_type": "display_data"
    }
   ],
   "source": [
    "import matplotlib.pyplot as plt\n",
    "plt.plot(brand_recommendation)"
   ]
  },
  {
   "cell_type": "code",
   "execution_count": 105,
   "metadata": {
    "collapsed": false
   },
   "outputs": [
    {
     "name": "stdout",
     "output_type": "stream",
     "text": [
      "[0.30769230769230771, 0.32000000000000001]\n"
     ]
    }
   ],
   "source": [
    "top_brands = [x for x in brand_recommendation if x >.3]\n",
    "print top_brands"
   ]
  },
  {
   "cell_type": "code",
   "execution_count": 104,
   "metadata": {
    "collapsed": false
   },
   "outputs": [
    {
     "data": {
      "text/plain": [
       "38"
      ]
     },
     "execution_count": 104,
     "metadata": {},
     "output_type": "execute_result"
    }
   ],
   "source": [
    "brand_recommendation.index(top_brands[0])"
   ]
  },
  {
   "cell_type": "code",
   "execution_count": 100,
   "metadata": {
    "collapsed": false
   },
   "outputs": [
    {
     "data": {
      "text/plain": [
       "[1033]"
      ]
     },
     "execution_count": 100,
     "metadata": {},
     "output_type": "execute_result"
    }
   ],
   "source": [
    "np.where(df.ix[38,:]==1)[0].tolist()"
   ]
  },
  {
   "cell_type": "code",
   "execution_count": 106,
   "metadata": {
    "collapsed": false
   },
   "outputs": [
    {
     "data": {
      "text/plain": [
       "90"
      ]
     },
     "execution_count": 106,
     "metadata": {},
     "output_type": "execute_result"
    }
   ],
   "source": [
    "brand_recommendation.index(top_brands[1])"
   ]
  },
  {
   "cell_type": "code",
   "execution_count": 107,
   "metadata": {
    "collapsed": false
   },
   "outputs": [
    {
     "data": {
      "text/plain": [
       "[1206]"
      ]
     },
     "execution_count": 107,
     "metadata": {},
     "output_type": "execute_result"
    }
   ],
   "source": [
    "np.where(df.ix[90,:]==1)[0].tolist()"
   ]
  },
  {
   "cell_type": "code",
   "execution_count": 156,
   "metadata": {
    "collapsed": false
   },
   "outputs": [],
   "source": [
    "def recommendation(user):\n",
    "    cutoff = 0.25\n",
    "    rec_list = brand_recommendations(user)\n",
    "    return [1 if x>cutoff else 0 for x in rec_list]"
   ]
  },
  {
   "cell_type": "code",
   "execution_count": 157,
   "metadata": {
    "collapsed": false
   },
   "outputs": [
    {
     "data": {
      "text/plain": [
       "[0,\n",
       " 0,\n",
       " 0,\n",
       " 0,\n",
       " 0,\n",
       " 0,\n",
       " 0,\n",
       " 0,\n",
       " 0,\n",
       " 0,\n",
       " 0,\n",
       " 0,\n",
       " 0,\n",
       " 0,\n",
       " 0,\n",
       " 0,\n",
       " 0,\n",
       " 0,\n",
       " 0,\n",
       " 0,\n",
       " 0,\n",
       " 0,\n",
       " 0,\n",
       " 0,\n",
       " 0,\n",
       " 1,\n",
       " 0,\n",
       " 0,\n",
       " 0,\n",
       " 0,\n",
       " 0,\n",
       " 0,\n",
       " 0,\n",
       " 0,\n",
       " 0,\n",
       " 0,\n",
       " 0,\n",
       " 0,\n",
       " 1,\n",
       " 0,\n",
       " 0,\n",
       " 0,\n",
       " 0,\n",
       " 0,\n",
       " 0,\n",
       " 0,\n",
       " 0,\n",
       " 0,\n",
       " 0,\n",
       " 0,\n",
       " 0,\n",
       " 0,\n",
       " 0,\n",
       " 0,\n",
       " 0,\n",
       " 0,\n",
       " 0,\n",
       " 0,\n",
       " 0,\n",
       " 0,\n",
       " 0,\n",
       " 0,\n",
       " 0,\n",
       " 0,\n",
       " 0,\n",
       " 0,\n",
       " 0,\n",
       " 0,\n",
       " 0,\n",
       " 0,\n",
       " 0,\n",
       " 0,\n",
       " 0,\n",
       " 0,\n",
       " 0,\n",
       " 0,\n",
       " 0,\n",
       " 0,\n",
       " 0,\n",
       " 0,\n",
       " 0,\n",
       " 0,\n",
       " 0,\n",
       " 0,\n",
       " 0,\n",
       " 0,\n",
       " 0,\n",
       " 0,\n",
       " 0,\n",
       " 0,\n",
       " 1,\n",
       " 0,\n",
       " 0,\n",
       " 0,\n",
       " 0,\n",
       " 0,\n",
       " 0,\n",
       " 0,\n",
       " 0,\n",
       " 0,\n",
       " 0,\n",
       " 0,\n",
       " 0,\n",
       " 0,\n",
       " 0,\n",
       " 1,\n",
       " 0,\n",
       " 0,\n",
       " 0,\n",
       " 0,\n",
       " 0,\n",
       " 0,\n",
       " 0,\n",
       " 0,\n",
       " 0,\n",
       " 0,\n",
       " 0,\n",
       " 0,\n",
       " 0,\n",
       " 0,\n",
       " 0,\n",
       " 0,\n",
       " 0,\n",
       " 0,\n",
       " 0,\n",
       " 0,\n",
       " 0,\n",
       " 0,\n",
       " 0,\n",
       " 0,\n",
       " 0,\n",
       " 0,\n",
       " 0,\n",
       " 0,\n",
       " 0,\n",
       " 0,\n",
       " 1,\n",
       " 0,\n",
       " 0,\n",
       " 0,\n",
       " 0,\n",
       " 0,\n",
       " 0,\n",
       " 0,\n",
       " 0,\n",
       " 0,\n",
       " 0,\n",
       " 0,\n",
       " 0,\n",
       " 0,\n",
       " 0,\n",
       " 0,\n",
       " 1,\n",
       " 1,\n",
       " 0,\n",
       " 0,\n",
       " 0,\n",
       " 1,\n",
       " 0,\n",
       " 0,\n",
       " 0,\n",
       " 0,\n",
       " 0,\n",
       " 0,\n",
       " 0,\n",
       " 0,\n",
       " 0,\n",
       " 0,\n",
       " 0,\n",
       " 0,\n",
       " 0,\n",
       " 0,\n",
       " 0,\n",
       " 0,\n",
       " 0,\n",
       " 0,\n",
       " 0,\n",
       " 0,\n",
       " 0,\n",
       " 0,\n",
       " 0,\n",
       " 0,\n",
       " 0,\n",
       " 0,\n",
       " 0,\n",
       " 0,\n",
       " 0,\n",
       " 0,\n",
       " 0,\n",
       " 0,\n",
       " 0,\n",
       " 0,\n",
       " 0,\n",
       " 0,\n",
       " 0,\n",
       " 0,\n",
       " 0,\n",
       " 0]"
      ]
     },
     "execution_count": 157,
     "metadata": {},
     "output_type": "execute_result"
    }
   ],
   "source": [
    "recommendation(1)"
   ]
  },
  {
   "cell_type": "markdown",
   "metadata": {},
   "source": [
    "### Bonus: Cross Validation"
   ]
  },
  {
   "cell_type": "code",
   "execution_count": 136,
   "metadata": {
    "collapsed": false
   },
   "outputs": [
    {
     "name": "stdout",
     "output_type": "stream",
     "text": [
      "[ 752  753  754 ..., 3756 3757 3758]\n",
      "[   0    1    2 ..., 3756 3757 3758]\n",
      "[   0    1    2 ..., 3756 3757 3758]\n",
      "[   0    1    2 ..., 3756 3757 3758]\n",
      "[   0    1    2 ..., 3005 3006 3007]\n"
     ]
    }
   ],
   "source": [
    "from sklearn.cross_validation import KFold\n",
    "kfold = KFold(df.shape[1],5)\n",
    "for train, test in kfold:\n",
    "    print train\n",
    "    \n",
    "        \n",
    "        "
   ]
  },
  {
   "cell_type": "code",
   "execution_count": 138,
   "metadata": {
    "collapsed": false
   },
   "outputs": [],
   "source": [
    "def get_likers_from_train(brand, train_set):\n",
    "    return np.where(df.ix[brand,train_set]==1)[0].tolist()\n",
    "    "
   ]
  },
  {
   "cell_type": "code",
   "execution_count": 139,
   "metadata": {
    "collapsed": false
   },
   "outputs": [],
   "source": [
    "def modified_brand_similiarity(user, brand, train):\n",
    "    similiar_list = []\n",
    "    likers = get_likers_from_train(brand, train)\n",
    "    for liker in likers:\n",
    "        similiar_list.append(similiarity(user,liker))\n",
    "    return sum(similiar_list)/len(similiar_list)"
   ]
  },
  {
   "cell_type": "code",
   "execution_count": 153,
   "metadata": {
    "collapsed": false
   },
   "outputs": [],
   "source": [
    "def modified_brand_recommendations(user, train):\n",
    "    num_brands = df.shape[0]\n",
    "    brand_recommendation = []\n",
    "    for i in range(num_brands):\n",
    "        brand_recommendation.append(modified_brand_similiarity(user=user,brand=i, train=train))\n",
    "    return brand_recommendation"
   ]
  },
  {
   "cell_type": "code",
   "execution_count": 154,
   "metadata": {
    "collapsed": false
   },
   "outputs": [],
   "source": [
    "from sklearn.cross_validation import KFold\n",
    "kfold = KFold(df.shape[1],5)\n",
    "for train, test in kfold:\n",
    "    for h in test[0:2].tolist():\n",
    "        print modified_brand_recommendations(h, train)"
   ]
  },
  {
   "cell_type": "code",
   "execution_count": 154,
   "metadata": {
    "collapsed": false
   },
   "outputs": [],
   "source": []
  },
  {
   "cell_type": "code",
   "execution_count": null,
   "metadata": {
    "collapsed": false
   },
   "outputs": [],
   "source": []
  }
 ],
 "metadata": {
  "kernelspec": {
   "display_name": "Python 2",
   "language": "python",
   "name": "python2"
  },
  "language_info": {
   "codemirror_mode": {
    "name": "ipython",
    "version": 2
   },
   "file_extension": ".py",
   "mimetype": "text/x-python",
   "name": "python",
   "nbconvert_exporter": "python",
   "pygments_lexer": "ipython2",
   "version": "2.7.13"
  }
 },
 "nbformat": 4,
 "nbformat_minor": 0
}
